{
 "cells": [
  {
   "cell_type": "markdown",
   "id": "83152e03",
   "metadata": {},
   "source": [
    "# Guía 3 — Introducción a LangChain con OpenAI API\n",
    "Curso: **IA en el Aula — Nivel Avanzado**  \n",
    "Profesor: **Luis Daniel Benavides Navarro**  \n",
    "Fecha: **Octubre 2025**\n",
    "\n",
    "En esta guía aprenderás los conceptos básicos de **LangChain**, una librería diseñada para construir aplicaciones impulsadas por modelos de lenguaje, integrando la API de OpenAI con flujos más complejos. Exploraremos cómo crear un primer **prompt chain**, administrar memoria y usar herramientas para componer respuestas inteligentes."
   ]
  },
  {
   "cell_type": "markdown",
   "id": "1b4929bd",
   "metadata": {},
   "source": [
    "## 1️⃣ Instalación y configuración inicial\n",
    "LangChain se instala como cualquier otra librería de Python. También usaremos `python-dotenv` para gestionar la clave de OpenAI. Ejecute la siguiente celda:"
   ]
  },
  {
   "cell_type": "code",
   "execution_count": 1,
   "id": "aca0e6f9",
   "metadata": {},
   "outputs": [
    {
     "name": "stdout",
     "output_type": "stream",
     "text": [
      "Requirement already satisfied: openai in c:\\users\\emily\\onedrive\\documentos\\octavo semestre\\arep\\tercio 3\\hello_ai\\.venv\\lib\\site-packages (2.6.1)\n",
      "Requirement already satisfied: langchain in c:\\users\\emily\\onedrive\\documentos\\octavo semestre\\arep\\tercio 3\\hello_ai\\.venv\\lib\\site-packages (1.0.2)\n",
      "Requirement already satisfied: python-dotenv in c:\\users\\emily\\onedrive\\documentos\\octavo semestre\\arep\\tercio 3\\hello_ai\\.venv\\lib\\site-packages (1.2.1)\n",
      "Requirement already satisfied: langchain-openai in c:\\users\\emily\\onedrive\\documentos\\octavo semestre\\arep\\tercio 3\\hello_ai\\.venv\\lib\\site-packages (1.0.1)\n",
      "Requirement already satisfied: anyio<5,>=3.5.0 in c:\\users\\emily\\onedrive\\documentos\\octavo semestre\\arep\\tercio 3\\hello_ai\\.venv\\lib\\site-packages (from openai) (4.11.0)\n",
      "Requirement already satisfied: distro<2,>=1.7.0 in c:\\users\\emily\\onedrive\\documentos\\octavo semestre\\arep\\tercio 3\\hello_ai\\.venv\\lib\\site-packages (from openai) (1.9.0)\n",
      "Requirement already satisfied: httpx<1,>=0.23.0 in c:\\users\\emily\\onedrive\\documentos\\octavo semestre\\arep\\tercio 3\\hello_ai\\.venv\\lib\\site-packages (from openai) (0.28.1)\n",
      "Requirement already satisfied: jiter<1,>=0.10.0 in c:\\users\\emily\\onedrive\\documentos\\octavo semestre\\arep\\tercio 3\\hello_ai\\.venv\\lib\\site-packages (from openai) (0.11.1)\n",
      "Requirement already satisfied: pydantic<3,>=1.9.0 in c:\\users\\emily\\onedrive\\documentos\\octavo semestre\\arep\\tercio 3\\hello_ai\\.venv\\lib\\site-packages (from openai) (2.12.3)\n",
      "Requirement already satisfied: sniffio in c:\\users\\emily\\onedrive\\documentos\\octavo semestre\\arep\\tercio 3\\hello_ai\\.venv\\lib\\site-packages (from openai) (1.3.1)\n",
      "Requirement already satisfied: tqdm>4 in c:\\users\\emily\\onedrive\\documentos\\octavo semestre\\arep\\tercio 3\\hello_ai\\.venv\\lib\\site-packages (from openai) (4.67.1)\n",
      "Requirement already satisfied: typing-extensions<5,>=4.11 in c:\\users\\emily\\onedrive\\documentos\\octavo semestre\\arep\\tercio 3\\hello_ai\\.venv\\lib\\site-packages (from openai) (4.15.0)\n",
      "Requirement already satisfied: idna>=2.8 in c:\\users\\emily\\onedrive\\documentos\\octavo semestre\\arep\\tercio 3\\hello_ai\\.venv\\lib\\site-packages (from anyio<5,>=3.5.0->openai) (3.11)\n",
      "Requirement already satisfied: certifi in c:\\users\\emily\\onedrive\\documentos\\octavo semestre\\arep\\tercio 3\\hello_ai\\.venv\\lib\\site-packages (from httpx<1,>=0.23.0->openai) (2025.10.5)\n",
      "Requirement already satisfied: httpcore==1.* in c:\\users\\emily\\onedrive\\documentos\\octavo semestre\\arep\\tercio 3\\hello_ai\\.venv\\lib\\site-packages (from httpx<1,>=0.23.0->openai) (1.0.9)\n",
      "Requirement already satisfied: h11>=0.16 in c:\\users\\emily\\onedrive\\documentos\\octavo semestre\\arep\\tercio 3\\hello_ai\\.venv\\lib\\site-packages (from httpcore==1.*->httpx<1,>=0.23.0->openai) (0.16.0)\n",
      "Requirement already satisfied: annotated-types>=0.6.0 in c:\\users\\emily\\onedrive\\documentos\\octavo semestre\\arep\\tercio 3\\hello_ai\\.venv\\lib\\site-packages (from pydantic<3,>=1.9.0->openai) (0.7.0)\n",
      "Requirement already satisfied: pydantic-core==2.41.4 in c:\\users\\emily\\onedrive\\documentos\\octavo semestre\\arep\\tercio 3\\hello_ai\\.venv\\lib\\site-packages (from pydantic<3,>=1.9.0->openai) (2.41.4)\n",
      "Requirement already satisfied: typing-inspection>=0.4.2 in c:\\users\\emily\\onedrive\\documentos\\octavo semestre\\arep\\tercio 3\\hello_ai\\.venv\\lib\\site-packages (from pydantic<3,>=1.9.0->openai) (0.4.2)\n",
      "Requirement already satisfied: langchain-core<2.0.0,>=1.0.0 in c:\\users\\emily\\onedrive\\documentos\\octavo semestre\\arep\\tercio 3\\hello_ai\\.venv\\lib\\site-packages (from langchain) (1.0.1)\n",
      "Requirement already satisfied: langgraph<1.1.0,>=1.0.0 in c:\\users\\emily\\onedrive\\documentos\\octavo semestre\\arep\\tercio 3\\hello_ai\\.venv\\lib\\site-packages (from langchain) (1.0.1)\n",
      "Requirement already satisfied: jsonpatch<2.0.0,>=1.33.0 in c:\\users\\emily\\onedrive\\documentos\\octavo semestre\\arep\\tercio 3\\hello_ai\\.venv\\lib\\site-packages (from langchain-core<2.0.0,>=1.0.0->langchain) (1.33)\n",
      "Requirement already satisfied: langsmith<1.0.0,>=0.3.45 in c:\\users\\emily\\onedrive\\documentos\\octavo semestre\\arep\\tercio 3\\hello_ai\\.venv\\lib\\site-packages (from langchain-core<2.0.0,>=1.0.0->langchain) (0.4.38)\n",
      "Requirement already satisfied: packaging<26.0.0,>=23.2.0 in c:\\users\\emily\\onedrive\\documentos\\octavo semestre\\arep\\tercio 3\\hello_ai\\.venv\\lib\\site-packages (from langchain-core<2.0.0,>=1.0.0->langchain) (25.0)\n",
      "Requirement already satisfied: pyyaml<7.0.0,>=5.3.0 in c:\\users\\emily\\onedrive\\documentos\\octavo semestre\\arep\\tercio 3\\hello_ai\\.venv\\lib\\site-packages (from langchain-core<2.0.0,>=1.0.0->langchain) (6.0.3)\n",
      "Requirement already satisfied: tenacity!=8.4.0,<10.0.0,>=8.1.0 in c:\\users\\emily\\onedrive\\documentos\\octavo semestre\\arep\\tercio 3\\hello_ai\\.venv\\lib\\site-packages (from langchain-core<2.0.0,>=1.0.0->langchain) (9.1.2)\n",
      "Requirement already satisfied: jsonpointer>=1.9 in c:\\users\\emily\\onedrive\\documentos\\octavo semestre\\arep\\tercio 3\\hello_ai\\.venv\\lib\\site-packages (from jsonpatch<2.0.0,>=1.33.0->langchain-core<2.0.0,>=1.0.0->langchain) (3.0.0)\n",
      "Requirement already satisfied: langgraph-checkpoint<4.0.0,>=2.1.0 in c:\\users\\emily\\onedrive\\documentos\\octavo semestre\\arep\\tercio 3\\hello_ai\\.venv\\lib\\site-packages (from langgraph<1.1.0,>=1.0.0->langchain) (3.0.0)\n",
      "Requirement already satisfied: langgraph-prebuilt<1.1.0,>=1.0.0 in c:\\users\\emily\\onedrive\\documentos\\octavo semestre\\arep\\tercio 3\\hello_ai\\.venv\\lib\\site-packages (from langgraph<1.1.0,>=1.0.0->langchain) (1.0.1)\n",
      "Requirement already satisfied: langgraph-sdk<0.3.0,>=0.2.2 in c:\\users\\emily\\onedrive\\documentos\\octavo semestre\\arep\\tercio 3\\hello_ai\\.venv\\lib\\site-packages (from langgraph<1.1.0,>=1.0.0->langchain) (0.2.9)\n",
      "Requirement already satisfied: xxhash>=3.5.0 in c:\\users\\emily\\onedrive\\documentos\\octavo semestre\\arep\\tercio 3\\hello_ai\\.venv\\lib\\site-packages (from langgraph<1.1.0,>=1.0.0->langchain) (3.6.0)\n",
      "Requirement already satisfied: ormsgpack>=1.10.0 in c:\\users\\emily\\onedrive\\documentos\\octavo semestre\\arep\\tercio 3\\hello_ai\\.venv\\lib\\site-packages (from langgraph-checkpoint<4.0.0,>=2.1.0->langgraph<1.1.0,>=1.0.0->langchain) (1.11.0)\n",
      "Requirement already satisfied: orjson>=3.10.1 in c:\\users\\emily\\onedrive\\documentos\\octavo semestre\\arep\\tercio 3\\hello_ai\\.venv\\lib\\site-packages (from langgraph-sdk<0.3.0,>=0.2.2->langgraph<1.1.0,>=1.0.0->langchain) (3.11.4)\n",
      "Requirement already satisfied: requests-toolbelt>=1.0.0 in c:\\users\\emily\\onedrive\\documentos\\octavo semestre\\arep\\tercio 3\\hello_ai\\.venv\\lib\\site-packages (from langsmith<1.0.0,>=0.3.45->langchain-core<2.0.0,>=1.0.0->langchain) (1.0.0)\n",
      "Requirement already satisfied: requests>=2.0.0 in c:\\users\\emily\\onedrive\\documentos\\octavo semestre\\arep\\tercio 3\\hello_ai\\.venv\\lib\\site-packages (from langsmith<1.0.0,>=0.3.45->langchain-core<2.0.0,>=1.0.0->langchain) (2.32.5)\n",
      "Requirement already satisfied: zstandard>=0.23.0 in c:\\users\\emily\\onedrive\\documentos\\octavo semestre\\arep\\tercio 3\\hello_ai\\.venv\\lib\\site-packages (from langsmith<1.0.0,>=0.3.45->langchain-core<2.0.0,>=1.0.0->langchain) (0.25.0)\n",
      "Requirement already satisfied: tiktoken<1.0.0,>=0.7.0 in c:\\users\\emily\\onedrive\\documentos\\octavo semestre\\arep\\tercio 3\\hello_ai\\.venv\\lib\\site-packages (from langchain-openai) (0.12.0)\n",
      "Requirement already satisfied: regex>=2022.1.18 in c:\\users\\emily\\onedrive\\documentos\\octavo semestre\\arep\\tercio 3\\hello_ai\\.venv\\lib\\site-packages (from tiktoken<1.0.0,>=0.7.0->langchain-openai) (2025.10.23)\n",
      "Requirement already satisfied: charset_normalizer<4,>=2 in c:\\users\\emily\\onedrive\\documentos\\octavo semestre\\arep\\tercio 3\\hello_ai\\.venv\\lib\\site-packages (from requests>=2.0.0->langsmith<1.0.0,>=0.3.45->langchain-core<2.0.0,>=1.0.0->langchain) (3.4.4)\n",
      "Requirement already satisfied: urllib3<3,>=1.21.1 in c:\\users\\emily\\onedrive\\documentos\\octavo semestre\\arep\\tercio 3\\hello_ai\\.venv\\lib\\site-packages (from requests>=2.0.0->langsmith<1.0.0,>=0.3.45->langchain-core<2.0.0,>=1.0.0->langchain) (2.5.0)\n",
      "Requirement already satisfied: colorama in c:\\users\\emily\\onedrive\\documentos\\octavo semestre\\arep\\tercio 3\\hello_ai\\.venv\\lib\\site-packages (from tqdm>4->openai) (0.4.6)\n",
      "Note: you may need to restart the kernel to use updated packages.\n"
     ]
    },
    {
     "name": "stderr",
     "output_type": "stream",
     "text": [
      "\n",
      "[notice] A new release of pip is available: 25.2 -> 25.3\n",
      "[notice] To update, run: python.exe -m pip install --upgrade pip\n"
     ]
    }
   ],
   "source": [
    "%pip install openai langchain python-dotenv langchain-openai"
   ]
  },
  {
   "cell_type": "markdown",
   "id": "5aee39b5",
   "metadata": {},
   "source": [
    "## 2️⃣ Cargar variables de entorno y cliente OpenAI\n",
    "Crea un archivo `.env` con tu clave de API y cárgala para poder usarla dentro de LangChain. Esto evita exponer tu clave en el código fuente."
   ]
  },
  {
   "cell_type": "code",
   "execution_count": 2,
   "id": "4b3fcb82",
   "metadata": {},
   "outputs": [
    {
     "name": "stdout",
     "output_type": "stream",
     "text": [
      "Cliente LangChain con OpenAI inicializado correctamente.\n"
     ]
    }
   ],
   "source": [
    "import os\n",
    "from dotenv import load_dotenv\n",
    "from langchain_openai import ChatOpenAI\n",
    "\n",
    "load_dotenv()  # Cargar archivo .env\n",
    "api_key = os.getenv(\"OPENAI_API_KEY\")\n",
    "\n",
    "if not api_key:\n",
    "    raise ValueError(\"No se encontró la clave OPENAI_API_KEY en el archivo .env\")\n",
    "\n",
    "# Crear cliente LangChain con OpenAI\n",
    "llm = ChatOpenAI(model=\"gpt-4o-mini\", temperature=0.5)\n",
    "print(\"Cliente LangChain con OpenAI inicializado correctamente.\")\n"
   ]
  },
  {
   "cell_type": "markdown",
   "id": "65e2926d",
   "metadata": {},
   "source": [
    "## 3️⃣ Primer ejemplo: Prompt simple con LangChain\n",
    "LangChain utiliza **chains** (cadenas de pasos) para procesar información. Comencemos con una cadena simple que envía un mensaje al modelo y obtiene la respuesta."
   ]
  },
  {
   "cell_type": "code",
   "execution_count": 3,
   "id": "0769dbb6",
   "metadata": {},
   "outputs": [
    {
     "name": "stdout",
     "output_type": "stream",
     "text": [
      "El aprendizaje automático es una rama de la inteligencia artificial que permite a las computadoras aprender de datos y mejorar su rendimiento en tareas específicas sin ser programadas explícitamente para cada una de ellas. Utiliza algoritmos y modelos estadísticos para identificar patrones y hacer predicciones basadas en la información proporcionada.\n"
     ]
    }
   ],
   "source": [
    "from langchain_openai import ChatOpenAI\n",
    "from langchain_core.prompts import ChatPromptTemplate\n",
    "from langchain_core.output_parsers import StrOutputParser\n",
    "\n",
    "# Initialize the LLM (uses your OpenAI API key from environment)\n",
    "llm = ChatOpenAI(model=\"gpt-4o-mini\", temperature=0.5)\n",
    "\n",
    "# Create a simple prompt\n",
    "prompt = ChatPromptTemplate.from_template(\n",
    "    \"Explica en dos frases el concepto de {tema}.\"\n",
    ")\n",
    "\n",
    "# Combine the components using LCEL (LangChain Expression Language)\n",
    "chain = prompt | llm | StrOutputParser()\n",
    "\n",
    "# Run it\n",
    "result = chain.invoke({\"tema\": \"aprendizaje automático\"})\n",
    "print(result)\n"
   ]
  },
  {
   "cell_type": "markdown",
   "id": "a5349f8b",
   "metadata": {},
   "source": [
    "### Explicación\n",
    "- **ChatPromptTemplate:** define la estructura del mensaje que se envía al modelo.\n",
    "- **ChatOpenAI:** la conexión real al modelo.\n",
    "- **chain** crea la cadena de componentes usando LCEL (LangChain Expression Language).\n",
    "- **StrOutputParser** convierte la salida estructurada del modelo en texto plano.\n",
    "- **chain.invoke:** ejecuta la cadena pasando los valores del prompt.\n",
    "\n",
    "Este patrón permite reutilizar prompts para distintos temas o contextos."
   ]
  },
  {
   "cell_type": "markdown",
   "id": "6939352f",
   "metadata": {},
   "source": [
    "## 4️⃣ Ejemplo 2: Encadenar múltiples pasos\n",
    "LangChain permite combinar varios pasos en una misma ejecución. En este ejemplo, crearemos dos prompts: uno para definir un tema y otro para generar una aplicación educativa basada en el resultado."
   ]
  },
  {
   "cell_type": "code",
   "execution_count": null,
   "id": "b6cd03c2",
   "metadata": {},
   "outputs": [
    {
     "name": "stdout",
     "output_type": "stream",
     "text": [
      "**Aplicación Educativa: \"Exploradores del Conocimiento\"**\n",
      "\n",
      "**Descripción General:**\n",
      "\"Exploradores del Conocimiento\" es una aplicación educativa basada en realidad aumentada (RA) diseñada para enriquecer el aprendizaje en diversas materias, como historia, ciencias, matemáticas y arte. La aplicación permite a los estudiantes interactuar con contenido digital superpuesto en su entorno real, facilitando una experiencia de aprendizaje más inmersiva y participativa.\n",
      "\n",
      "**Características Principales:**\n",
      "\n",
      "1. **Exploración de Temas:**\n",
      "   - Los estudiantes pueden seleccionar diferentes temas de estudio (por ejemplo, el sistema solar, civilizaciones antiguas o estructuras matemáticas).\n",
      "   - Al apuntar su dispositivo hacia un área específica (como una mesa o un mural en el aula), la aplicación proyectará modelos 3D, videos explicativos y gráficos interactivos relacionados con el tema elegido.\n",
      "\n",
      "2. **Interacción y Aprendizaje Activo:**\n",
      "   - Los estudiantes pueden interactuar con los elementos virtuales. Por ejemplo, al tocar un modelo 3D de un dinosaurio, se activará una animación que muestre cómo se movía o qué comía, junto con datos interesantes sobre su hábitat.\n",
      "   - Se pueden hacer preguntas y recibir respuestas instantáneas a través de un sistema de inteligencia artificial integrado.\n",
      "\n",
      "3. **Misiones y Retos:**\n",
      "   - La aplicación incluirá misiones educativas que los estudiantes deben completar. Por ejemplo, encontrar y escanear diferentes elementos en su entorno que correspondan a un tema de estudio, como identificar plantas en un jardín para aprender sobre botánica.\n",
      "   - Los estudiantes pueden ganar puntos y recompensas por completar misiones, lo que fomentará la competencia amistosa y el trabajo en equipo.\n",
      "\n",
      "4. **Integración de Realidad Aumentada en el Aula:**\n",
      "   - Los docentes pueden utilizar la aplicación durante las clases para ilustrar conceptos complejos. Por ejemplo, al enseñar sobre la anatomía humana, el profesor puede proyectar un modelo 3D del cuerpo humano en el aula, permitiendo a los estudiantes explorar sus órganos y sistemas de manera interactiva.\n",
      "\n",
      "5. **Creación de Contenido por los Estudiantes:**\n",
      "   - Los estudiantes pueden crear sus propios proyectos utilizando la aplicación, donde pueden diseñar una lección en RA sobre un tema de su elección. Esto fomenta la creatividad y el pensamiento crítico, permitiendo a los estudiantes convertirse en \"creadores\" de contenido educativo.\n",
      "\n",
      "6. **Evaluación y Seguimiento:**\n",
      "   - La aplicación incluirá herramientas de evaluación que permitirán a los docentes seguir el progreso de los estudiantes y evaluar su comprensión de los temas mediante cuestionarios interactivos y actividades prácticas en RA.\n",
      "\n",
      "**Beneficios:**\n",
      "- Fomenta el aprendizaje activo y la curiosidad.\n",
      "- Facilita la comprensión de conceptos complejos a través de visualizaciones interactivas.\n",
      "- Promueve la colaboración y el trabajo en equipo entre los estudiantes.\n",
      "- Ofrece una forma innovadora y atractiva de aprender, especialmente para las generaciones más jóvenes que están familiarizadas con la tecnología.\n",
      "\n",
      "**Conclusión:**\n",
      "\"Exploradores del Conocimiento\" tiene el potencial de transformar el aula en un espacio dinámico y atractivo, donde los estudiantes pueden aprender de manera más efectiva y divertida a través de la realidad aumentada. Esta aplicación no solo enriquecería el aprendizaje, sino que también prepararía a los estudiantes para un futuro cada vez más digital.\n"
     ]
    }
   ],
   "source": [
    "from langchain_openai import ChatOpenAI\n",
    "from langchain_core.prompts import ChatPromptTemplate\n",
    "from langchain_core.output_parsers import StrOutputParser\n",
    "from operator import itemgetter\n",
    "\n",
    "# 1) LLM (usa tu OPENAI_API_KEY en el entorno)\n",
    "llm = ChatOpenAI(model=\"gpt-4o-mini\", temperature=0.5)\n",
    "to_str = StrOutputParser()\n",
    "\n",
    "# 2) Paso 1: explicar brevemente el concepto de {tema}\n",
    "primer_prompt = ChatPromptTemplate.from_template(\n",
    "    \"Explica brevemente el concepto de {tema}.\"\n",
    ")\n",
    "primer_paso = primer_prompt | llm | to_str\n",
    "# `primer_paso` produce un string, por ejemplo: \"La realidad aumentada es ...\"\n",
    "\n",
    "# 3) Paso 2: proponer una aplicación educativa usando la salida del paso 1 como {concepto}\n",
    "segundo_prompt = ChatPromptTemplate.from_template(\n",
    "    \"Propón una aplicación educativa del siguiente concepto: {concepto}.\"\n",
    ")\n",
    "segundo_paso = segundo_prompt | llm | to_str\n",
    "\n",
    "# 4) Encadenar: mapear la entrada {tema} al primer paso, y su salida a {concepto} del segundo\n",
    "cadena_secuencial = {\"concepto\": primer_paso} | segundo_paso\n",
    "\n",
    "# 5) Ejecutar la cadena completa\n",
    "resultado = cadena_secuencial.invoke({\"tema\": \"realidad aumentada\"})\n",
    "print(resultado)"
   ]
  },
  {
   "cell_type": "markdown",
   "id": "cf949db6",
   "metadata": {},
   "source": [
    "### Explicación\n",
    "- **cadena_secuencial:** permite conectar varias cadenas; la salida de una se convierte en la entrada de la siguiente.\n",
    "- En este caso, el modelo primero explica el tema y luego sugiere una aplicación educativa.\n",
    "\n",
    "Este tipo de flujo es ideal para generar contenido didáctico o ideas para proyectos en clase."
   ]
  },
  {
   "cell_type": "markdown",
   "id": "0d0483d0",
   "metadata": {},
   "source": [
    "## 5️⃣ Ejemplo 3: Añadir memoria a la conversación\n",
    "LangChain incluye módulos de **memoria** para mantener contexto entre múltiples interacciones. Esto permite simular conversaciones educativas más naturales, donde el modelo recuerda temas previos."
   ]
  },
  {
   "cell_type": "code",
   "execution_count": 6,
   "id": "d363f018",
   "metadata": {},
   "outputs": [
    {
     "name": "stdout",
     "output_type": "stream",
     "text": [
      "¡Hola! ¿En qué puedo ayudarte hoy en tu labor como profesor de informática?\n",
      "Claro, aquí tienes algunas ideas para introducir la inteligencia artificial (IA) a tus estudiantes:\n",
      "\n",
      "1. **Conceptos Básicos**: Comienza explicando qué es la IA, sus tipos (IA débil vs. IA fuerte) y sus aplicaciones en la vida cotidiana (asistentes virtuales, recomendaciones de productos, etc.).\n",
      "\n",
      "2. **Historia de la IA**: Proporciona un breve resumen de la evolución de la IA, desde sus inicios hasta los avances recientes. Esto ayudará a los estudiantes a entender el contexto.\n",
      "\n",
      "3. **Demostraciones Prácticas**: Utiliza herramientas y plataformas accesibles, como Google Teachable Machine o Scratch con extensiones de IA, para mostrar cómo se pueden crear modelos de IA sin necesidad de programación avanzada.\n",
      "\n",
      "4. **Proyectos Prácticos**: Asigna proyectos donde los estudiantes puedan crear sus propios modelos simples de IA, como un clasificador de imágenes o un chatbot básico. Esto puede hacerse utilizando lenguajes de programación como Python con bibliotecas como TensorFlow o Keras.\n",
      "\n",
      "5. **Ética en IA**: Discute las implicaciones éticas de la IA, como el sesgo algorítmico y la privacidad de los datos. Esto fomentará un pensamiento crítico sobre el uso de la tecnología.\n",
      "\n",
      "6. **Recursos Adicionales**: Proporciona recursos como cursos en línea (Coursera, edX), libros y tutoriales para aquellos estudiantes que deseen profundizar más en el tema.\n",
      "\n",
      "7. **Invitados Especiales**: Considera invitar a expertos en IA para que hablen sobre sus experiencias y proyectos, lo que puede inspirar a los estudiantes.\n",
      "\n",
      "Recuerda adaptar el contenido a la edad y nivel de conocimiento de tus estudiantes. ¡Buena suerte!\n",
      "Aquí tienes algunos ejemplos prácticos que puedes utilizar en clase para enseñar sobre inteligencia artificial:\n",
      "\n",
      "1. **Chatbots**:\n",
      "   - **Actividad**: Los estudiantes pueden crear un chatbot sencillo utilizando plataformas como Chatbot.com o Dialogflow. Pueden diseñar un bot que responda preguntas frecuentes sobre un tema específico.\n",
      "\n",
      "2. **Clasificación de Imágenes**:\n",
      "   - **Actividad**: Usa Google Teachable Machine para que los estudiantes entrenen un modelo que clasifique imágenes (por ejemplo, diferentes tipos de frutas). Pueden subir sus propias imágenes y ver cómo el modelo aprende.\n",
      "\n",
      "3. **Reconocimiento de Voz**:\n",
      "   - **Actividad**: Utiliza herramientas como Google Speech-to-Text para que los estudiantes experimenten con el reconocimiento de voz. Pueden crear una aplicación simple que convierta voz en texto.\n",
      "\n",
      "4. **Juegos con IA**:\n",
      "   - **Actividad**: Introduce juegos que utilizan IA, como el juego de ajedrez en línea, donde los estudiantes pueden jugar contra un oponente de IA. Luego, discute cómo la IA toma decisiones.\n",
      "\n",
      "5. **Análisis de Sentimientos**:\n",
      "   - **Actividad**: Utiliza herramientas como MonkeyLearn para que los estudiantes analicen textos y determinen el sentimiento (positivo, negativo, neutral) de diferentes comentarios en redes sociales.\n",
      "\n",
      "6. **Recomendaciones**:\n",
      "   - **Actividad**: Explica cómo funcionan los sistemas de recomendación (como los de Netflix o Amazon) y haz que los estudiantes creen un sistema simple que recomiende películas o libros basándose en preferencias.\n",
      "\n",
      "7. **Proyectos de Programación**:\n",
      "   - **Actividad**: Si tus estudiantes tienen conocimientos de programación, pueden utilizar Python y bibliotecas como Scikit-learn para crear un modelo de aprendizaje automático que prediga resultados basados en datos.\n",
      "\n",
      "8. **Visualización de Datos**:\n",
      "   - **Actividad**: Enseña a los estudiantes a usar herramientas como Tableau o Google Data Studio para visualizar datos y comprender cómo la IA puede ayudar a interpretar grandes volúmenes de información.\n",
      "\n",
      "Estos ejemplos no solo son prácticos, sino que también son interactivos y fomentan el aprendizaje activo. ¡Espero que te sean útiles!\n"
     ]
    }
   ],
   "source": [
    "\n",
    "# Instalar si hace falta:\n",
    "# %pip install -U langchain langchain-openai\n",
    "\n",
    "from langchain_openai import ChatOpenAI\n",
    "from langchain_core.prompts import ChatPromptTemplate, MessagesPlaceholder\n",
    "from langchain_core.messages import HumanMessage, AIMessage\n",
    "from langchain_core.output_parsers import StrOutputParser\n",
    "\n",
    "# LLM (requiere OPENAI_API_KEY en el entorno)\n",
    "llm = ChatOpenAI(model=\"gpt-4o-mini\", temperature=0.5)\n",
    "to_str = StrOutputParser()\n",
    "\n",
    "# Prompt con hueco para el historial\n",
    "prompt = ChatPromptTemplate.from_messages([\n",
    "    (\"system\", \"Eres un asistente educativo claro y conciso.\"),\n",
    "    MessagesPlaceholder(\"chat_history\"),      # ← aquí va la memoria\n",
    "    (\"human\", \"{input}\")\n",
    "])\n",
    "\n",
    "# Cadena base\n",
    "chain = prompt | llm | to_str\n",
    "\n",
    "# Memoria simple como lista de mensajes\n",
    "history: list = []\n",
    "\n",
    "def chat(user_text: str) -> str:\n",
    "    \"\"\"\n",
    "    Envía un turno del usuario, usa el historial y actualiza la memoria\n",
    "    con el par (usuario, asistente).\n",
    "    \"\"\"\n",
    "    global history\n",
    "    # Ejecutar la cadena inyectando el historial actual\n",
    "    answer = chain.invoke({\"input\": user_text, \"chat_history\": history})\n",
    "    # Actualizar memoria (guardar los dos mensajes)\n",
    "    history += [HumanMessage(content=user_text), AIMessage(content=answer)]\n",
    "    return answer\n",
    "\n",
    "# --- Ejemplo de uso (tres turnos) ---\n",
    "print(chat(\"Hola, soy un profesor de informática.\"))\n",
    "print(chat(\"¿Puedes explicarme cómo introducir IA a mis estudiantes?\"))\n",
    "print(chat(\"¿Qué ejemplos prácticos puedo usar en la clase?\"))\n",
    "\n"
   ]
  },
  {
   "cell_type": "markdown",
   "id": "6a79423b",
   "metadata": {},
   "source": [
    "### Explicación\n",
    "- **ConversationBufferMemory:** almacena los mensajes anteriores en la conversación.\n",
    "- **ConversationChain:** combina el modelo con la memoria.\n",
    "- Esta funcionalidad es útil para tutores inteligentes o chatbots educativos que requieren continuidad en el diálogo."
   ]
  },
  {
   "cell_type": "markdown",
   "id": "f0ba0ab9",
   "metadata": {},
   "source": [
    "## 6️⃣ Buenas prácticas con LangChain + OpenAI\n",
    "- Usa prompts **claros y estructurados**: el modelo responde mejor cuando la tarea está bien definida.\n",
    "- Controla `temperature` según la tarea: bajo (0.1–0.3) para precisión, alto (0.7–0.9) para creatividad.\n",
    "- Guarda logs o historiales si tu aplicación incluye interacción prolongada.\n",
    "- Limita la longitud de las respuestas con `max_tokens` para evitar costos o respuestas excesivas.\n",
    "- Documenta tus cadenas (`LLMChain`) para reusarlas en distintos contextos educativos."
   ]
  },
  {
   "cell_type": "markdown",
   "id": "68a40d49",
   "metadata": {},
   "source": [
    "## ✅ Conclusión\n",
    "Has aprendido los fundamentos de LangChain: prompts, chains, memoria y flujo secuencial. Estos conceptos son la base para desarrollar asistentes educativos, tutores personalizados o sistemas de generación de contenido en el aula. En la próxima guía implementaremos un **asistente educativo con RAG (Retrieval-Augmented Generation)** usando tus propios materiales docentes."
   ]
  }
 ],
 "metadata": {
  "kernelspec": {
   "display_name": ".venv (3.13.9)",
   "language": "python",
   "name": "python3"
  },
  "language_info": {
   "codemirror_mode": {
    "name": "ipython",
    "version": 3
   },
   "file_extension": ".py",
   "mimetype": "text/x-python",
   "name": "python",
   "nbconvert_exporter": "python",
   "pygments_lexer": "ipython3",
   "version": "3.13.9"
  }
 },
 "nbformat": 4,
 "nbformat_minor": 5
}
